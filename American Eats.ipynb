{
    "cells": [
        {
            "cell_type": "markdown",
            "metadata": {
                "collapsed": true
            },
            "source": "# American Eats: The Better Pie"
        },
        {
            "cell_type": "markdown",
            "metadata": {},
            "source": "## Introduction"
        },
        {
            "cell_type": "markdown",
            "metadata": {},
            "source": "Anyone that loves pizza as much as I do is always looking for the next best thing. Obviously going to a place that has more pizza shops than burger joints is the goal. So today we will analyze the pizza shop locations in Major US cities and find the best one to try. The target audience for this project are pizza extremists looking for the best places to indulge in pizza."
        },
        {
            "cell_type": "markdown",
            "metadata": {},
            "source": "## Data Section"
        },
        {
            "cell_type": "markdown",
            "metadata": {},
            "source": "i will use FoureSquare API to collect data on locations of PIzza shops in 5 major US cities. They will include: New York, San Francisco, Jersey City, Boston and Chicago. These are the most popular places for the most diverse pizza shops."
        },
        {
            "cell_type": "markdown",
            "metadata": {},
            "source": "## Methodology"
        },
        {
            "cell_type": "markdown",
            "metadata": {},
            "source": "My goal is to see which city has the highest Pizza Shop Density. I used the Four Square API venues channel. I used Category ID and near venues."
        },
        {
            "cell_type": "markdown",
            "metadata": {},
            "source": "I used center coordinates of the venues to get the mean longitude and latitude values. "
        },
        {
            "cell_type": "markdown",
            "metadata": {},
            "source": "##Results"
        },
        {
            "cell_type": "code",
            "execution_count": null,
            "metadata": {},
            "outputs": [],
            "source": ""
        }
    ],
    "metadata": {
        "kernelspec": {
            "display_name": "Python 3.6",
            "language": "python",
            "name": "python3"
        },
        "language_info": {
            "codemirror_mode": {
                "name": "ipython",
                "version": 3
            },
            "file_extension": ".py",
            "mimetype": "text/x-python",
            "name": "python",
            "nbconvert_exporter": "python",
            "pygments_lexer": "ipython3",
            "version": "3.6.9"
        }
    },
    "nbformat": 4,
    "nbformat_minor": 1
}